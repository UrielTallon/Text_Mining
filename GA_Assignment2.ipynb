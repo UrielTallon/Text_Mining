{
 "cells": [
  {
   "cell_type": "markdown",
   "metadata": {},
   "source": [
    "### Linguistic Corpus Analysis\n",
    "\n",
    "This is part of an assignment on exploratory data analysis. The data set is a linguistic related corpus compiled from Lingbuzz. The source code for the compilation of the corpus can be found on [github](https://github.com/UrielTallon/Text_Mining)"
   ]
  },
  {
   "cell_type": "code",
   "execution_count": 4,
   "metadata": {
    "collapsed": false
   },
   "outputs": [
    {
     "name": "stderr",
     "output_type": "stream",
     "text": [
      "E:\\Anaconda3\\envs\\CourseraML\\lib\\site-packages\\matplotlib\\__init__.py:872: UserWarning: axes.color_cycle is deprecated and replaced with axes.prop_cycle; please use the latter.\n",
      "  warnings.warn(self.msg_depr % (key, alt_key))\n"
     ]
    }
   ],
   "source": [
    "import numpy as np\n",
    "import matplotlib as mpl\n",
    "import matplotlib.pyplot as plt\n",
    "import seaborn as sns\n",
    "import pandas as pd\n",
    "import collections as coll\n",
    "import re\n",
    "import nltk\n",
    "import json\n",
    "\n",
    "%matplotlib inline"
   ]
  },
  {
   "cell_type": "code",
   "execution_count": 27,
   "metadata": {
    "collapsed": true
   },
   "outputs": [],
   "source": [
    "mpl.rc('figure', figsize = (18, 10))"
   ]
  },
  {
   "cell_type": "code",
   "execution_count": 5,
   "metadata": {
    "collapsed": false
   },
   "outputs": [],
   "source": [
    "with open('Data/lingBuzzCorpus.json', 'rb') as f:\n",
    "    data = json.load(f)"
   ]
  },
  {
   "cell_type": "code",
   "execution_count": 11,
   "metadata": {
    "collapsed": false
   },
   "outputs": [],
   "source": [
    "dataTable = pd.DataFrame.from_dict(data, orient = 'index')\n",
    "dataTable = dataTable.drop('ref', axis = 1)"
   ]
  },
  {
   "cell_type": "code",
   "execution_count": 12,
   "metadata": {
    "collapsed": false
   },
   "outputs": [
    {
     "data": {
      "text/html": [
       "<div>\n",
       "<table border=\"1\" class=\"dataframe\">\n",
       "  <thead>\n",
       "    <tr style=\"text-align: right;\">\n",
       "      <th></th>\n",
       "      <th>cnt</th>\n",
       "      <th>kwd</th>\n",
       "      <th>tit</th>\n",
       "      <th>pub</th>\n",
       "      <th>dat</th>\n",
       "      <th>aut</th>\n",
       "      <th>exc</th>\n",
       "    </tr>\n",
       "  </thead>\n",
       "  <tbody>\n",
       "    <tr>\n",
       "      <th>000001</th>\n",
       "      <td>2900</td>\n",
       "      <td>[preposition, adposition, space, place, path, ...</td>\n",
       "      <td>spatial p in english</td>\n",
       "      <td>to appear in cartography of syntactic structur...</td>\n",
       "      <td>october 2008</td>\n",
       "      <td>[peter svenonius]</td>\n",
       "      <td>a detailed investigation of the syntax and sem...</td>\n",
       "    </tr>\n",
       "    <tr>\n",
       "      <th>000002</th>\n",
       "      <td>1611</td>\n",
       "      <td>[generative syntax, principles and parameters,...</td>\n",
       "      <td>move reduces to merge: a theory of locality</td>\n",
       "      <td>N/A</td>\n",
       "      <td>february 2001</td>\n",
       "      <td>[michal starke]</td>\n",
       "      <td>dissertation</td>\n",
       "    </tr>\n",
       "    <tr>\n",
       "      <th>000003</th>\n",
       "      <td>245</td>\n",
       "      <td>[generative syntax, principles and parameters,...</td>\n",
       "      <td>on the form of chains: criterial positions and...</td>\n",
       "      <td>N/A</td>\n",
       "      <td>january 2004</td>\n",
       "      <td>[luigi rizzi]</td>\n",
       "      <td>originally available at wwwcisclunisiit</td>\n",
       "    </tr>\n",
       "    <tr>\n",
       "      <th>000004</th>\n",
       "      <td>952</td>\n",
       "      <td>[syntax, elegance]</td>\n",
       "      <td>on the inexistence of specifiers and the natur...</td>\n",
       "      <td>N/A</td>\n",
       "      <td>may 2001</td>\n",
       "      <td>[michal starke]</td>\n",
       "      <td>this papers argues that there is no such thing...</td>\n",
       "    </tr>\n",
       "    <tr>\n",
       "      <th>000005</th>\n",
       "      <td>1656</td>\n",
       "      <td>[principles and parameters, clitics, syntax, p...</td>\n",
       "      <td>the typology of structural deficiency</td>\n",
       "      <td>N/A</td>\n",
       "      <td>october 1994</td>\n",
       "      <td>[anna cardinaletti, michal starke]</td>\n",
       "      <td>we argue that there is an intermediate class o...</td>\n",
       "    </tr>\n",
       "    <tr>\n",
       "      <th>000006</th>\n",
       "      <td>1103</td>\n",
       "      <td>[syntax]</td>\n",
       "      <td>on the format for small clauses</td>\n",
       "      <td>N/A</td>\n",
       "      <td>march 1995</td>\n",
       "      <td>[michal starke]</td>\n",
       "      <td></td>\n",
       "    </tr>\n",
       "    <tr>\n",
       "      <th>000007</th>\n",
       "      <td>1310</td>\n",
       "      <td>[complex predicate, syntax, small clause, resu...</td>\n",
       "      <td>the lexical syntax and lexical semantics of th...</td>\n",
       "      <td>proceedings of wccfl santa cruz</td>\n",
       "      <td>march 2002</td>\n",
       "      <td>[gillian ramchand, peter svenonius]</td>\n",
       "      <td></td>\n",
       "    </tr>\n",
       "    <tr>\n",
       "      <th>000008</th>\n",
       "      <td>1684</td>\n",
       "      <td>[phase, successive-cyclic movement, syntax, edge]</td>\n",
       "      <td>on the edge</td>\n",
       "      <td>N/A</td>\n",
       "      <td>april 2004</td>\n",
       "      <td>[peter svenonius]</td>\n",
       "      <td>published in 2004 kluwer volume \"peripheries\" ...</td>\n",
       "    </tr>\n",
       "    <tr>\n",
       "      <th>000009</th>\n",
       "      <td>859</td>\n",
       "      <td>[wh-movement, syntax-semantics interface, rela...</td>\n",
       "      <td>merge and move: wh-dependencies revisited</td>\n",
       "      <td>revised version appeared in linguistic inquiry...</td>\n",
       "      <td>march 2003</td>\n",
       "      <td>[david adger, gillian ramchand]</td>\n",
       "      <td>in this paper we argue that under current conc...</td>\n",
       "    </tr>\n",
       "    <tr>\n",
       "      <th>000010</th>\n",
       "      <td>223</td>\n",
       "      <td>[swiss-german, adjective stranding, syntax, in...</td>\n",
       "      <td>something invisible in english</td>\n",
       "      <td>upenn working papers in linguistics 11.1: proc...</td>\n",
       "      <td>april 2004</td>\n",
       "      <td>[thomas leu]</td>\n",
       "      <td>in view of french swiss german and english dat...</td>\n",
       "    </tr>\n",
       "  </tbody>\n",
       "</table>\n",
       "</div>"
      ],
      "text/plain": [
       "         cnt                                                kwd  \\\n",
       "000001  2900  [preposition, adposition, space, place, path, ...   \n",
       "000002  1611  [generative syntax, principles and parameters,...   \n",
       "000003   245  [generative syntax, principles and parameters,...   \n",
       "000004   952                                 [syntax, elegance]   \n",
       "000005  1656  [principles and parameters, clitics, syntax, p...   \n",
       "000006  1103                                           [syntax]   \n",
       "000007  1310  [complex predicate, syntax, small clause, resu...   \n",
       "000008  1684  [phase, successive-cyclic movement, syntax, edge]   \n",
       "000009   859  [wh-movement, syntax-semantics interface, rela...   \n",
       "000010   223  [swiss-german, adjective stranding, syntax, in...   \n",
       "\n",
       "                                                      tit  \\\n",
       "000001                               spatial p in english   \n",
       "000002        move reduces to merge: a theory of locality   \n",
       "000003  on the form of chains: criterial positions and...   \n",
       "000004  on the inexistence of specifiers and the natur...   \n",
       "000005              the typology of structural deficiency   \n",
       "000006                    on the format for small clauses   \n",
       "000007  the lexical syntax and lexical semantics of th...   \n",
       "000008                                        on the edge   \n",
       "000009          merge and move: wh-dependencies revisited   \n",
       "000010                     something invisible in english   \n",
       "\n",
       "                                                      pub            dat  \\\n",
       "000001  to appear in cartography of syntactic structur...   october 2008   \n",
       "000002                                                N/A  february 2001   \n",
       "000003                                                N/A   january 2004   \n",
       "000004                                                N/A       may 2001   \n",
       "000005                                                N/A   october 1994   \n",
       "000006                                                N/A     march 1995   \n",
       "000007                    proceedings of wccfl santa cruz     march 2002   \n",
       "000008                                                N/A     april 2004   \n",
       "000009  revised version appeared in linguistic inquiry...     march 2003   \n",
       "000010  upenn working papers in linguistics 11.1: proc...     april 2004   \n",
       "\n",
       "                                        aut  \\\n",
       "000001                    [peter svenonius]   \n",
       "000002                      [michal starke]   \n",
       "000003                        [luigi rizzi]   \n",
       "000004                      [michal starke]   \n",
       "000005   [anna cardinaletti, michal starke]   \n",
       "000006                      [michal starke]   \n",
       "000007  [gillian ramchand, peter svenonius]   \n",
       "000008                    [peter svenonius]   \n",
       "000009      [david adger, gillian ramchand]   \n",
       "000010                         [thomas leu]   \n",
       "\n",
       "                                                      exc  \n",
       "000001  a detailed investigation of the syntax and sem...  \n",
       "000002                                       dissertation  \n",
       "000003            originally available at wwwcisclunisiit  \n",
       "000004  this papers argues that there is no such thing...  \n",
       "000005  we argue that there is an intermediate class o...  \n",
       "000006                                                     \n",
       "000007                                                     \n",
       "000008  published in 2004 kluwer volume \"peripheries\" ...  \n",
       "000009  in this paper we argue that under current conc...  \n",
       "000010  in view of french swiss german and english dat...  "
      ]
     },
     "execution_count": 12,
     "metadata": {},
     "output_type": "execute_result"
    }
   ],
   "source": [
    "dataTable.head(10)"
   ]
  },
  {
   "cell_type": "code",
   "execution_count": 17,
   "metadata": {
    "collapsed": false
   },
   "outputs": [],
   "source": [
    "count_kwd = coll.Counter()\n",
    "for val in dataTable['kwd'].values:\n",
    "    for kw in val:\n",
    "        count_kwd[kw] += 1"
   ]
  },
  {
   "cell_type": "code",
   "execution_count": 33,
   "metadata": {
    "collapsed": false
   },
   "outputs": [
    {
     "data": {
      "image/png": "[encoded data removed]",
      "text/plain": [
       "<matplotlib.figure.Figure at 0x227ac240>"
      ]
     },
     "metadata": {},
     "output_type": "display_data"
    }
   ],
   "source": [
    "plt.bar(np.arange(1, 26, 1), [x[1] for x in count_kwd.most_common(25)])\n",
    "plt.title('25 Most Common Keywords')\n",
    "plt.xticks(np.arange(1, 26, 1), [x[0] for x in count_kwd.most_common(25)], rotation = 90);"
   ]
  },
  {
   "cell_type": "code",
   "execution_count": null,
   "metadata": {
    "collapsed": true
   },
   "outputs": [],
   "source": []
  },
  {
   "cell_type": "code",
   "execution_count": null,
   "metadata": {
    "collapsed": true
   },
   "outputs": [],
   "source": []
  }
 ],
 "metadata": {
  "kernelspec": {
   "display_name": "Python 2",
   "language": "python",
   "name": "python2"
  },
  "language_info": {
   "codemirror_mode": {
    "name": "ipython",
    "version": 2
   },
   "file_extension": ".py",
   "mimetype": "text/x-python",
   "name": "python",
   "nbconvert_exporter": "python",
   "pygments_lexer": "ipython2",
   "version": "2.7.10"
  }
 },
 "nbformat": 4,
 "nbformat_minor": 0
}
